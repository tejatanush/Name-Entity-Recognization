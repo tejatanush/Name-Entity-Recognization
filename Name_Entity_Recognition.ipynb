{
  "nbformat": 4,
  "nbformat_minor": 0,
  "metadata": {
    "colab": {
      "provenance": [],
      "authorship_tag": "ABX9TyPlThAYtPxPWtj5MGP15JhQ",
      "include_colab_link": true
    },
    "kernelspec": {
      "name": "python3",
      "display_name": "Python 3"
    },
    "language_info": {
      "name": "python"
    }
  },
  "cells": [
    {
      "cell_type": "markdown",
      "metadata": {
        "id": "view-in-github",
        "colab_type": "text"
      },
      "source": [
        "<a href=\"https://colab.research.google.com/github/tejatanush/Name-Entity-Recognization/blob/main/Name_Entity_Recognition.ipynb\" target=\"_parent\"><img src=\"https://colab.research.google.com/assets/colab-badge.svg\" alt=\"Open In Colab\"/></a>"
      ]
    },
    {
      "cell_type": "markdown",
      "source": [
        "# **Model Description:**"
      ],
      "metadata": {
        "id": "H6vIBSd-jNiB"
      }
    },
    {
      "cell_type": "markdown",
      "source": [
        "Developed a model to recognize category of words in a sentence comes under. This model is built using the spacy library with 'en_core_web_sm'"
      ],
      "metadata": {
        "id": "Mlqtw-nMjP5D"
      }
    },
    {
      "cell_type": "markdown",
      "source": [
        "# 1.Import Libraries"
      ],
      "metadata": {
        "id": "f7LAAO5ej3sJ"
      }
    },
    {
      "cell_type": "code",
      "execution_count": null,
      "metadata": {
        "id": "OE0PLvjoLUYV"
      },
      "outputs": [],
      "source": [
        "import spacy"
      ]
    },
    {
      "cell_type": "code",
      "source": [
        "nlp=spacy.load('en_core_web_sm')\n",
        "nlp.pipe_names"
      ],
      "metadata": {
        "colab": {
          "base_uri": "https://localhost:8080/"
        },
        "id": "3_uKL7a0PBFT",
        "outputId": "813cb01a-acf3-4973-f5d6-939ca83c1120"
      },
      "execution_count": null,
      "outputs": [
        {
          "output_type": "execute_result",
          "data": {
            "text/plain": [
              "['tok2vec', 'tagger', 'parser', 'attribute_ruler', 'lemmatizer', 'ner']"
            ]
          },
          "metadata": {},
          "execution_count": 4
        }
      ]
    },
    {
      "cell_type": "markdown",
      "source": [
        "#2. Build  NER model"
      ],
      "metadata": {
        "id": "SLo4tisOkAxg"
      }
    },
    {
      "cell_type": "code",
      "source": [
        "def NER(doc):\n",
        "  for ent in doc.ents:\n",
        "    print(ent.text,'|',ent.label_,'|',spacy.explain(ent.label_))"
      ],
      "metadata": {
        "id": "legNbw8kQreY"
      },
      "execution_count": null,
      "outputs": []
    },
    {
      "cell_type": "markdown",
      "source": [
        "We set to print text(word) , label of word , explanation of label"
      ],
      "metadata": {
        "id": "PgmaexHzkXNg"
      }
    },
    {
      "cell_type": "markdown",
      "source": [
        "# 3.Take input and display category of words in text"
      ],
      "metadata": {
        "id": "r1mU-oLjkHYw"
      }
    },
    {
      "cell_type": "code",
      "source": [
        "for i in range(1,6):\n",
        "  print(i)\n",
        "  sentence=str(input())\n",
        "  doc=nlp(sentence)\n",
        "  NER(doc)\n",
        "  for ent in doc.ents:\n",
        "    print(ent.text,ent.start_char,ent.end_char,ent.label_)"
      ],
      "metadata": {
        "colab": {
          "base_uri": "https://localhost:8080/"
        },
        "id": "rSVGMPM1PmtN",
        "outputId": "23c1c340-a54b-4932-ffd6-ab9b1f956da5"
      },
      "execution_count": null,
      "outputs": [
        {
          "output_type": "stream",
          "name": "stdout",
          "text": [
            "1\n",
            "Narendra Modi was elected as the Prime Minister of India in May 2014, and he was re-elected in May 2019 and in june 2024\n",
            "Narendra Modi | PERSON | People, including fictional\n",
            "India | GPE | Countries, cities, states\n",
            "May 2014 | DATE | Absolute or relative dates or periods\n",
            "May 2019 | DATE | Absolute or relative dates or periods\n",
            "june 2024 | DATE | Absolute or relative dates or periods\n",
            "Narendra Modi 0 13 PERSON\n",
            "India 51 56 GPE\n",
            "May 2014 60 68 DATE\n",
            "May 2019 95 103 DATE\n",
            "june 2024 111 120 DATE\n",
            "2\n",
            "The Indian Space Research Organisation (ISRO) successfully launched the Mars Orbiter Mission, also known as Mangalyaan, from the Sriharikota Spaceport on November 5, 2013.\n",
            "The Indian Space Research Organisation | ORG | Companies, agencies, institutions, etc.\n",
            "the Mars Orbiter Mission | ORG | Companies, agencies, institutions, etc.\n",
            "Mangalyaan | PERSON | People, including fictional\n",
            "the Sriharikota Spaceport | FAC | Buildings, airports, highways, bridges, etc.\n",
            "November 5, 2013 | DATE | Absolute or relative dates or periods\n",
            "The Indian Space Research Organisation 0 38 ORG\n",
            "the Mars Orbiter Mission 68 92 ORG\n",
            "Mangalyaan 108 118 PERSON\n",
            "the Sriharikota Spaceport 125 150 FAC\n",
            "November 5, 2013 154 170 DATE\n",
            "3\n",
            "Mahatma Gandhi led the Salt March to Dandi in 1930 as part of the Indian independence movement.\n",
            "Mahatma Gandhi | PERSON | People, including fictional\n",
            "the Salt March | GPE | Countries, cities, states\n",
            "Dandi | GPE | Countries, cities, states\n",
            "1930 | DATE | Absolute or relative dates or periods\n",
            "Indian | NORP | Nationalities or religious or political groups\n",
            "Mahatma Gandhi 0 14 PERSON\n",
            "the Salt March 19 33 GPE\n",
            "Dandi 37 42 GPE\n",
            "1930 46 50 DATE\n",
            "Indian 66 72 NORP\n",
            "4\n",
            "The 2022 Indian Premier League (IPL) season saw the Gujarat Titans win the championship against the Rajasthan Royals in the final held at the Narendra Modi Stadium in Ahmedabad.\n",
            "2022 | DATE | Absolute or relative dates or periods\n",
            "the Rajasthan Royals | ORG | Companies, agencies, institutions, etc.\n",
            "the Narendra Modi Stadium | FAC | Buildings, airports, highways, bridges, etc.\n",
            "Ahmedabad | GPE | Countries, cities, states\n",
            "2022 4 8 DATE\n",
            "the Rajasthan Royals 96 116 ORG\n",
            "the Narendra Modi Stadium 138 163 FAC\n",
            "Ahmedabad 167 176 GPE\n",
            "5\n",
            "The Taj Mahal, a UNESCO World Heritage Site, is located in Agra, Uttar Pradesh and was built by Mughal Emperor Shah Jahan in the 17th century.\n",
            "The Taj Mahal | ORG | Companies, agencies, institutions, etc.\n",
            "UNESCO World Heritage Site | ORG | Companies, agencies, institutions, etc.\n",
            "Agra | ORG | Companies, agencies, institutions, etc.\n",
            "Uttar Pradesh | ORG | Companies, agencies, institutions, etc.\n",
            "Shah Jahan | PERSON | People, including fictional\n",
            "the 17th century | DATE | Absolute or relative dates or periods\n",
            "The Taj Mahal 0 13 ORG\n",
            "UNESCO World Heritage Site 17 43 ORG\n",
            "Agra 59 63 ORG\n",
            "Uttar Pradesh 65 78 ORG\n",
            "Shah Jahan 111 121 PERSON\n",
            "the 17th century 125 141 DATE\n"
          ]
        }
      ]
    },
    {
      "cell_type": "markdown",
      "source": [
        "We can see our model displayed text,label,explanation of label for different sentences."
      ],
      "metadata": {
        "id": "F_ihQcwbklgw"
      }
    }
  ]
}